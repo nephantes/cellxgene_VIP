{
 "cells": [
  {
   "cell_type": "code",
   "execution_count": 1,
   "metadata": {},
   "outputs": [],
   "source": [
    "import pandas as pd\n",
    "import numpy as np\n",
    "import sys, getopt\n"
   ]
  },
  {
   "cell_type": "code",
   "execution_count": null,
   "metadata": {
    "scrolled": true
   },
   "outputs": [],
   "source": [
    "import matplotlib.pyplot as plt\n",
    "import seaborn as sns\n",
    "import copy\n",
    "import numpy as np\n",
    "from PIL import Image, ImageOps\n",
    "import scanpy as sc"
   ]
  },
  {
   "cell_type": "markdown",
   "metadata": {},
   "source": [
    "# Download input demo data\n",
    "wget -O 10X_ST_demo.tar.gz https://zenodo.org/record/5765589/files/10X_ST_demo.tar.gz?download=1\n",
    "\n",
    "tar -zxvf 10X_ST_demo.tar.gz\n",
    "\n"
   ]
  },
  {
   "cell_type": "code",
   "execution_count": 3,
   "metadata": {},
   "outputs": [],
   "source": [
    "# change directory to 10X_ST_demo which is just downloaded, if in current directory\n",
    "os.chdir('./10X_ST_demo')\n",
    "inputfile='inputfiles.txt'"
   ]
  },
  {
   "cell_type": "code",
   "execution_count": 4,
   "metadata": {
    "scrolled": true
   },
   "outputs": [
    {
     "data": {
      "text/plain": [
       "0    10X_demo_data_Breast_Cancer_Block_A_Section_1\n",
       "1    10X_demo_data_Breast_Cancer_Block_A_Section_2\n",
       "2                        10X_demo_data_Human_Heart\n",
       "3                   10X_demo_data_Human_Lymph_Node\n",
       "Name: 0, dtype: object"
      ]
     },
     "execution_count": 4,
     "metadata": {},
     "output_type": "execute_result"
    }
   ],
   "source": [
    "samples = pd.read_csv(inputfile, header = None)[0]\n",
    "samples"
   ]
  },
  {
   "cell_type": "code",
   "execution_count": 5,
   "metadata": {},
   "outputs": [
    {
     "data": {
      "text/plain": [
       "'10X_demo_data_Breast_Cancer_Block_A_Section_1'"
      ]
     },
     "execution_count": 5,
     "metadata": {},
     "output_type": "execute_result"
    }
   ],
   "source": [
    "samples[0]"
   ]
  },
  {
   "cell_type": "code",
   "execution_count": 6,
   "metadata": {},
   "outputs": [],
   "source": [
    "# samples = samples[0:2]\n",
    "# samples"
   ]
  },
  {
   "cell_type": "code",
   "execution_count": 7,
   "metadata": {},
   "outputs": [
    {
     "name": "stderr",
     "output_type": "stream",
     "text": [
      "Variable names are not unique. To make them unique, call `.var_names_make_unique`.\n",
      "Variable names are not unique. To make them unique, call `.var_names_make_unique`.\n",
      "Variable names are not unique. To make them unique, call `.var_names_make_unique`.\n",
      "Variable names are not unique. To make them unique, call `.var_names_make_unique`.\n",
      "Variable names are not unique. To make them unique, call `.var_names_make_unique`.\n",
      "Variable names are not unique. To make them unique, call `.var_names_make_unique`.\n",
      "Variable names are not unique. To make them unique, call `.var_names_make_unique`.\n",
      "Variable names are not unique. To make them unique, call `.var_names_make_unique`.\n"
     ]
    }
   ],
   "source": [
    "def read_each(i):\n",
    "    adata = sc.read_visium(i)\n",
    "    adata.var_names_make_unique()\n",
    "    # flip Y axis to show correctly in cellxgene VIP\n",
    "    adata.obsm['spatial'][:,1] = -adata.obsm['spatial'][:,1]\n",
    "    return(adata)\n",
    "\n",
    "adatals = [read_each(i) for i in samples]\n"
   ]
  },
  {
   "cell_type": "code",
   "execution_count": 8,
   "metadata": {},
   "outputs": [],
   "source": [
    "import anndata"
   ]
  },
  {
   "cell_type": "code",
   "execution_count": 9,
   "metadata": {
    "scrolled": true
   },
   "outputs": [
    {
     "data": {
      "text/html": [
       "<div>\n",
       "<style scoped>\n",
       "    .dataframe tbody tr th:only-of-type {\n",
       "        vertical-align: middle;\n",
       "    }\n",
       "\n",
       "    .dataframe tbody tr th {\n",
       "        vertical-align: top;\n",
       "    }\n",
       "\n",
       "    .dataframe thead th {\n",
       "        text-align: right;\n",
       "    }\n",
       "</style>\n",
       "<table border=\"1\" class=\"dataframe\">\n",
       "  <thead>\n",
       "    <tr style=\"text-align: right;\">\n",
       "      <th></th>\n",
       "      <th>0</th>\n",
       "    </tr>\n",
       "  </thead>\n",
       "  <tbody>\n",
       "    <tr>\n",
       "      <th>0</th>\n",
       "      <td>V1_Breast_Cancer_Block_A_Section_1</td>\n",
       "    </tr>\n",
       "    <tr>\n",
       "      <th>1</th>\n",
       "      <td>V1_Breast_Cancer_Block_A_Section_2</td>\n",
       "    </tr>\n",
       "    <tr>\n",
       "      <th>2</th>\n",
       "      <td>V1_Human_Heart</td>\n",
       "    </tr>\n",
       "    <tr>\n",
       "      <th>3</th>\n",
       "      <td>V1_Human_Lymph_Node</td>\n",
       "    </tr>\n",
       "  </tbody>\n",
       "</table>\n",
       "</div>"
      ],
      "text/plain": [
       "                                    0\n",
       "0  V1_Breast_Cancer_Block_A_Section_1\n",
       "1  V1_Breast_Cancer_Block_A_Section_2\n",
       "2                      V1_Human_Heart\n",
       "3                 V1_Human_Lymph_Node"
      ]
     },
     "execution_count": 9,
     "metadata": {},
     "output_type": "execute_result"
    }
   ],
   "source": [
    "sampleIDs = samples.str.extract(r'10X_demo_data_(.*)')\n",
    "sampleIDs = \"V1_\"+ sampleIDs\n",
    "sampleIDs"
   ]
  },
  {
   "cell_type": "code",
   "execution_count": 10,
   "metadata": {},
   "outputs": [
    {
     "data": {
      "text/plain": [
       "0    V1_Breast_Cancer_Block_A_Section_1\n",
       "1    V1_Breast_Cancer_Block_A_Section_2\n",
       "2                        V1_Human_Heart\n",
       "3                   V1_Human_Lymph_Node\n",
       "Name: 0, dtype: category\n",
       "Categories (4, object): [V1_Breast_Cancer_Block_A_Section_1, V1_Breast_Cancer_Block_A_Section_2, V1_Human_Heart, V1_Human_Lymph_Node]"
      ]
     },
     "execution_count": 10,
     "metadata": {},
     "output_type": "execute_result"
    }
   ],
   "source": [
    "sampleIDs[0].astype(\"category\")"
   ]
  },
  {
   "cell_type": "code",
   "execution_count": 11,
   "metadata": {},
   "outputs": [],
   "source": [
    "adata_merge = sc.AnnData.concatenate(*adatals, batch_key='sample', join='outer', batch_categories= sampleIDs[0].astype(\"category\"))"
   ]
  },
  {
   "cell_type": "code",
   "execution_count": 12,
   "metadata": {},
   "outputs": [
    {
     "data": {
      "text/html": [
       "<div>\n",
       "<style scoped>\n",
       "    .dataframe tbody tr th:only-of-type {\n",
       "        vertical-align: middle;\n",
       "    }\n",
       "\n",
       "    .dataframe tbody tr th {\n",
       "        vertical-align: top;\n",
       "    }\n",
       "\n",
       "    .dataframe thead th {\n",
       "        text-align: right;\n",
       "    }\n",
       "</style>\n",
       "<table border=\"1\" class=\"dataframe\">\n",
       "  <thead>\n",
       "    <tr style=\"text-align: right;\">\n",
       "      <th></th>\n",
       "      <th>in_tissue</th>\n",
       "      <th>array_row</th>\n",
       "      <th>array_col</th>\n",
       "      <th>sample</th>\n",
       "    </tr>\n",
       "  </thead>\n",
       "  <tbody>\n",
       "    <tr>\n",
       "      <th>AAACAAGTATCTCCCA-1-V1_Breast_Cancer_Block_A_Section_1</th>\n",
       "      <td>1</td>\n",
       "      <td>50</td>\n",
       "      <td>102</td>\n",
       "      <td>V1_Breast_Cancer_Block_A_Section_1</td>\n",
       "    </tr>\n",
       "    <tr>\n",
       "      <th>AAACACCAATAACTGC-1-V1_Breast_Cancer_Block_A_Section_1</th>\n",
       "      <td>1</td>\n",
       "      <td>59</td>\n",
       "      <td>19</td>\n",
       "      <td>V1_Breast_Cancer_Block_A_Section_1</td>\n",
       "    </tr>\n",
       "    <tr>\n",
       "      <th>AAACAGAGCGACTCCT-1-V1_Breast_Cancer_Block_A_Section_1</th>\n",
       "      <td>1</td>\n",
       "      <td>14</td>\n",
       "      <td>94</td>\n",
       "      <td>V1_Breast_Cancer_Block_A_Section_1</td>\n",
       "    </tr>\n",
       "    <tr>\n",
       "      <th>AAACAGGGTCTATATT-1-V1_Breast_Cancer_Block_A_Section_1</th>\n",
       "      <td>1</td>\n",
       "      <td>47</td>\n",
       "      <td>13</td>\n",
       "      <td>V1_Breast_Cancer_Block_A_Section_1</td>\n",
       "    </tr>\n",
       "    <tr>\n",
       "      <th>AAACAGTGTTCCTGGG-1-V1_Breast_Cancer_Block_A_Section_1</th>\n",
       "      <td>1</td>\n",
       "      <td>73</td>\n",
       "      <td>43</td>\n",
       "      <td>V1_Breast_Cancer_Block_A_Section_1</td>\n",
       "    </tr>\n",
       "  </tbody>\n",
       "</table>\n",
       "</div>"
      ],
      "text/plain": [
       "                                                    in_tissue  array_row  \\\n",
       "AAACAAGTATCTCCCA-1-V1_Breast_Cancer_Block_A_Sec...          1         50   \n",
       "AAACACCAATAACTGC-1-V1_Breast_Cancer_Block_A_Sec...          1         59   \n",
       "AAACAGAGCGACTCCT-1-V1_Breast_Cancer_Block_A_Sec...          1         14   \n",
       "AAACAGGGTCTATATT-1-V1_Breast_Cancer_Block_A_Sec...          1         47   \n",
       "AAACAGTGTTCCTGGG-1-V1_Breast_Cancer_Block_A_Sec...          1         73   \n",
       "\n",
       "                                                    array_col  \\\n",
       "AAACAAGTATCTCCCA-1-V1_Breast_Cancer_Block_A_Sec...        102   \n",
       "AAACACCAATAACTGC-1-V1_Breast_Cancer_Block_A_Sec...         19   \n",
       "AAACAGAGCGACTCCT-1-V1_Breast_Cancer_Block_A_Sec...         94   \n",
       "AAACAGGGTCTATATT-1-V1_Breast_Cancer_Block_A_Sec...         13   \n",
       "AAACAGTGTTCCTGGG-1-V1_Breast_Cancer_Block_A_Sec...         43   \n",
       "\n",
       "                                                                                sample  \n",
       "AAACAAGTATCTCCCA-1-V1_Breast_Cancer_Block_A_Sec...  V1_Breast_Cancer_Block_A_Section_1  \n",
       "AAACACCAATAACTGC-1-V1_Breast_Cancer_Block_A_Sec...  V1_Breast_Cancer_Block_A_Section_1  \n",
       "AAACAGAGCGACTCCT-1-V1_Breast_Cancer_Block_A_Sec...  V1_Breast_Cancer_Block_A_Section_1  \n",
       "AAACAGGGTCTATATT-1-V1_Breast_Cancer_Block_A_Sec...  V1_Breast_Cancer_Block_A_Section_1  \n",
       "AAACAGTGTTCCTGGG-1-V1_Breast_Cancer_Block_A_Sec...  V1_Breast_Cancer_Block_A_Section_1  "
      ]
     },
     "execution_count": 12,
     "metadata": {},
     "output_type": "execute_result"
    }
   ],
   "source": [
    "adata_merge.obs.head()"
   ]
  },
  {
   "cell_type": "code",
   "execution_count": 13,
   "metadata": {},
   "outputs": [
    {
     "data": {
      "text/plain": [
       "'V1_Human_Lymph_Node'"
      ]
     },
     "execution_count": 13,
     "metadata": {},
     "output_type": "execute_result"
    }
   ],
   "source": [
    "list(adatals[3].uns[\"spatial\"])[0]"
   ]
  },
  {
   "cell_type": "code",
   "execution_count": 14,
   "metadata": {
    "scrolled": true
   },
   "outputs": [
    {
     "name": "stdout",
     "output_type": "stream",
     "text": [
      "0\n",
      "1\n",
      "2\n",
      "3\n"
     ]
    }
   ],
   "source": [
    "for i in list(range(len(adatals))):\n",
    "    print(i)\n",
    "    # add back the spatial coordinates as separate embeddings\n",
    "    adata_merge.obsm['X_spatial_'+list(adatals[i].uns[\"spatial\"])[0]] = np.zeros(adata_merge.obsm['spatial'].shape)\n",
    "    adata_merge.obsm['X_spatial_'+list(adatals[i].uns[\"spatial\"])[0]][np.where(adata_merge.obs['sample']==list(adatals[i].uns[\"spatial\"])[0])] = adatals[i].obsm['spatial']\n",
    "\n",
    "adata_merge.uns['spatial'] = dict()\n",
    "for i in list(range(len(adatals))):\n",
    "    adata_merge.uns['spatial'][\"spatial_\"+list(adatals[i].uns[\"spatial\"])[0]] = adatals[i].uns['spatial'][list(adatals[i].uns[\"spatial\"])[0]]\n"
   ]
  },
  {
   "cell_type": "code",
   "execution_count": 15,
   "metadata": {},
   "outputs": [
    {
     "data": {
      "text/plain": [
       "13"
      ]
     },
     "execution_count": 15,
     "metadata": {},
     "output_type": "execute_result"
    }
   ],
   "source": [
    "adata_merge.var_names.str.startswith(\"MT-\").sum()"
   ]
  },
  {
   "cell_type": "code",
   "execution_count": 16,
   "metadata": {},
   "outputs": [],
   "source": [
    "# QC metric\n",
    "adata_merge.var[\"mt\"] = adata_merge.var_names.str.startswith(\"MT-\")"
   ]
  },
  {
   "cell_type": "code",
   "execution_count": 17,
   "metadata": {},
   "outputs": [],
   "source": [
    "sc.pp.calculate_qc_metrics(adata_merge, qc_vars=[\"mt\"], inplace=True)"
   ]
  },
  {
   "cell_type": "code",
   "execution_count": 18,
   "metadata": {},
   "outputs": [
    {
     "data": {
      "text/plain": [
       "<matplotlib.axes._subplots.AxesSubplot at 0x7fba41c6d4a8>"
      ]
     },
     "execution_count": 18,
     "metadata": {},
     "output_type": "execute_result"
    },
    {
     "data": {
      "image/png": "[encoded data removed]",
      "text/plain": [
       "<Figure size 1080x288 with 4 Axes>"
      ]
     },
     "metadata": {
      "needs_background": "light"
     },
     "output_type": "display_data"
    }
   ],
   "source": [
    "# QC plots\n",
    "fig, axs = plt.subplots(1, 4, figsize=(15, 4))\n",
    "sns.distplot(adata_merge.obs[\"total_counts\"], kde=False, ax=axs[0])\n",
    "sns.distplot(adata_merge.obs[\"total_counts\"][adata_merge.obs[\"total_counts\"] < 10000], kde=False, bins=40, ax=axs[1])\n",
    "sns.distplot(adata_merge.obs[\"n_genes_by_counts\"], kde=False, bins=60, ax=axs[2])\n",
    "sns.distplot(adata_merge.obs[\"n_genes_by_counts\"][adata_merge.obs[\"n_genes_by_counts\"] < 4000], kde=False, bins=60, ax=axs[3])\n"
   ]
  },
  {
   "cell_type": "code",
   "execution_count": 19,
   "metadata": {},
   "outputs": [],
   "source": [
    "# filtering, turn this off to keep all spots for visualization also cutoffs are case-by-case based on the QC plots\n",
    "#sc.pp.filter_cells(adata, min_counts=5000)\n",
    "#sc.pp.filter_cells(adata, max_counts=35000)\n",
    "#adata = adata[adata.obs[\"pct_counts_mt\"] < 20]\n",
    "#print(f\"#cells after MT filter: {adata.n_obs}\")\n",
    "#sc.pp.filter_genes(adata, min_cells=10)\n"
   ]
  },
  {
   "cell_type": "code",
   "execution_count": 20,
   "metadata": {},
   "outputs": [],
   "source": [
    "# normalization, log1p transformation and select HVGs\n",
    "sc.pp.normalize_total(adata_merge, inplace=True)\n",
    "sc.pp.log1p(adata_merge)\n",
    "sc.pp.highly_variable_genes(adata_merge, flavor=\"seurat\", n_top_genes=2000)\n"
   ]
  },
  {
   "cell_type": "code",
   "execution_count": 21,
   "metadata": {},
   "outputs": [],
   "source": [
    "# PCA, UMAP and clustering by leiden\n",
    "sc.pp.pca(adata_merge)\n",
    "sc.pp.neighbors(adata_merge)\n",
    "sc.tl.umap(adata_merge)\n",
    "sc.tl.leiden(adata_merge, key_added=\"clusters\")\n"
   ]
  },
  {
   "cell_type": "code",
   "execution_count": 22,
   "metadata": {},
   "outputs": [
    {
     "data": {
      "text/plain": [
       "['V1_Breast_Cancer_Block_A_Section_1',\n",
       " 'V1_Breast_Cancer_Block_A_Section_2',\n",
       " 'V1_Human_Heart',\n",
       " 'V1_Human_Lymph_Node']"
      ]
     },
     "execution_count": 22,
     "metadata": {},
     "output_type": "execute_result"
    }
   ],
   "source": [
    "# collect sample names\n",
    "sampleNames = list()\n",
    "for f in list(adata_merge.obsm):\n",
    "    if \"spatial_\" in f: # search for the pattern\n",
    "        library_id=f.replace(\"X_spatial_\",\"\") # parse the string and get the sample id\n",
    "        #library_id=library_id.replace(\"V1_\",\"\")\n",
    "        sampleNames.append(library_id)\n",
    "sampleNames"
   ]
  },
  {
   "cell_type": "code",
   "execution_count": 23,
   "metadata": {},
   "outputs": [],
   "source": [
    "from PIL import Image\n",
    "spatial=adata_merge.uns[\"spatial\"]\n",
    "dim=''\n",
    "import math\n",
    "if dim=='':\n",
    "    height = math.ceil(math.sqrt(len(samples)))\n",
    "    width = math.ceil(len(samples)/height)\n",
    "else:\n",
    "    width,height = dim.split('x')\n"
   ]
  },
  {
   "cell_type": "code",
   "execution_count": 24,
   "metadata": {},
   "outputs": [
    {
     "name": "stdout",
     "output_type": "stream",
     "text": [
      "2\n",
      "2\n",
      "4\n"
     ]
    }
   ],
   "source": [
    "print(height)\n",
    "print(width)\n",
    "print(len(sampleNames))"
   ]
  },
  {
   "cell_type": "code",
   "execution_count": 25,
   "metadata": {},
   "outputs": [
    {
     "name": "stdout",
     "output_type": "stream",
     "text": [
      "0\n",
      "1\n",
      "2\n",
      "3\n"
     ]
    }
   ],
   "source": [
    "idx = 0\n",
    "size=700\n",
    "#creates a new empty image, RGB mode, and size 1400 by 1400.\n",
    "new_im = Image.new('RGB', (size*width,size*height))\n",
    "for i in range(0,size*width,size):\n",
    "    for j in range(0,size*height,size):\n",
    "        # load the image from the object\n",
    "        #im = Image.fromarray((spatial[\"spatial_V1_\"+samples[idx]][\"images\"][\"lowres\"]* 255).round().astype(np.uint8)) # found a solution to covert float32 to unit8\n",
    "        im = Image.fromarray((spatial[\"spatial_\"+sampleNames[idx]][\"images\"][\"lowres\"]* 255).round().astype(np.uint8)) # found a solution to covert float32 to unit8\n",
    "        # paste images together\n",
    "        new_im.paste(im, (j,i))\n",
    "        print(idx)\n",
    "        idx = idx+1\n",
    "        if idx>=len(sampleNames):\n",
    "            break\n"
   ]
  },
  {
   "cell_type": "code",
   "execution_count": 26,
   "metadata": {},
   "outputs": [],
   "source": [
    "# fake a adata.uns by providing merged lowres image and scale factors 1\n",
    "adata_merge.uns['spatial']['spatial_Merged'] = copy.deepcopy(adata_merge.uns['spatial'][list(adata_merge.uns['spatial'])[0]])\n",
    "adata_merge.uns['spatial']['spatial_Merged']['images'][\"hires\"] = np.asarray(new_im)\n",
    "adata_merge.uns['spatial']['spatial_Merged']['images'][\"lowres\"] = np.asarray(new_im)\n",
    "adata_merge.uns['spatial']['spatial_Merged']['scalefactors']['tissue_lowres_scalef'] = 1\n",
    "adata_merge.uns['spatial']['spatial_Merged']['scalefactors']['tissue_hires_scalef'] = 1"
   ]
  },
  {
   "cell_type": "code",
   "execution_count": 27,
   "metadata": {},
   "outputs": [
    {
     "name": "stdout",
     "output_type": "stream",
     "text": [
      "spatial_V1_Breast_Cancer_Block_A_Section_1\n",
      "spatial_V1_Breast_Cancer_Block_A_Section_2\n",
      "spatial_V1_Human_Heart\n",
      "spatial_V1_Human_Lymph_Node\n"
     ]
    }
   ],
   "source": [
    "# add back the spatial coordinates as separate embeddings\n",
    "idx = 0\n",
    "adata_merge.obsm['X_spatial_Merged'] = adata_merge.obsm['spatial']\n",
    "for i in range(0,size*width,size):\n",
    "    for j in range(0,size*height,size):\n",
    "        #library_id='spatial_V1_'+samples[idx] # parse the string and get the sample id\n",
    "        library_id='spatial_'+sampleNames[idx] # parse the string and get the sample id\n",
    "        print(library_id)\n",
    "        tissue_lowres_scalef = spatial[library_id]['scalefactors']['tissue_lowres_scalef']\n",
    "        adata_merge.obsm['X_spatial_Merged'][np.where(adata_merge.obs['sample']==sampleNames[idx])] = copy.deepcopy(adatals[idx].obsm['spatial'])\n",
    "        adata_merge.obsm['X_spatial_Merged'][np.where(adata_merge.obs['sample']==sampleNames[idx]),1] = adatals[idx].obsm['spatial'][:,1]*tissue_lowres_scalef - i\n",
    "        adata_merge.obsm['X_spatial_Merged'][np.where(adata_merge.obs['sample']==sampleNames[idx]),0] = adatals[idx].obsm['spatial'][:,0]*tissue_lowres_scalef + j\n",
    "        idx = idx+1\n",
    "        if idx>=len(sampleNames):\n",
    "            break\n"
   ]
  },
  {
   "cell_type": "code",
   "execution_count": 28,
   "metadata": {},
   "outputs": [
    {
     "name": "stderr",
     "output_type": "stream",
     "text": [
      "... storing 'gene_ids-V1_Breast_Cancer_Block_A_Section_1' as categorical\n",
      "... storing 'feature_types-V1_Breast_Cancer_Block_A_Section_1' as categorical\n",
      "... storing 'genome-V1_Breast_Cancer_Block_A_Section_1' as categorical\n",
      "... storing 'gene_ids-V1_Breast_Cancer_Block_A_Section_2' as categorical\n",
      "... storing 'feature_types-V1_Breast_Cancer_Block_A_Section_2' as categorical\n",
      "... storing 'genome-V1_Breast_Cancer_Block_A_Section_2' as categorical\n",
      "... storing 'gene_ids-V1_Human_Heart' as categorical\n",
      "... storing 'feature_types-V1_Human_Heart' as categorical\n",
      "... storing 'genome-V1_Human_Heart' as categorical\n",
      "... storing 'gene_ids-V1_Human_Lymph_Node' as categorical\n",
      "... storing 'feature_types-V1_Human_Lymph_Node' as categorical\n",
      "... storing 'genome-V1_Human_Lymph_Node' as categorical\n"
     ]
    }
   ],
   "source": [
    "outputfile = '10X_data.h5ad'\n",
    "adata_merge.write_h5ad(outputfile)"
   ]
  },
  {
   "cell_type": "code",
   "execution_count": 29,
   "metadata": {
    "scrolled": true
   },
   "outputs": [
    {
     "data": {
      "text/html": [
       "<div>\n",
       "<style scoped>\n",
       "    .dataframe tbody tr th:only-of-type {\n",
       "        vertical-align: middle;\n",
       "    }\n",
       "\n",
       "    .dataframe tbody tr th {\n",
       "        vertical-align: top;\n",
       "    }\n",
       "\n",
       "    .dataframe thead th {\n",
       "        text-align: right;\n",
       "    }\n",
       "</style>\n",
       "<table border=\"1\" class=\"dataframe\">\n",
       "  <thead>\n",
       "    <tr style=\"text-align: right;\">\n",
       "      <th></th>\n",
       "      <th>in_tissue</th>\n",
       "      <th>array_row</th>\n",
       "      <th>array_col</th>\n",
       "      <th>sample</th>\n",
       "      <th>n_genes_by_counts</th>\n",
       "      <th>log1p_n_genes_by_counts</th>\n",
       "      <th>total_counts</th>\n",
       "      <th>log1p_total_counts</th>\n",
       "      <th>pct_counts_in_top_50_genes</th>\n",
       "      <th>pct_counts_in_top_100_genes</th>\n",
       "      <th>pct_counts_in_top_200_genes</th>\n",
       "      <th>pct_counts_in_top_500_genes</th>\n",
       "      <th>total_counts_mt</th>\n",
       "      <th>log1p_total_counts_mt</th>\n",
       "      <th>pct_counts_mt</th>\n",
       "      <th>clusters</th>\n",
       "    </tr>\n",
       "  </thead>\n",
       "  <tbody>\n",
       "    <tr>\n",
       "      <th>AAACAAGTATCTCCCA-1-V1_Breast_Cancer_Block_A_Section_1</th>\n",
       "      <td>1</td>\n",
       "      <td>50</td>\n",
       "      <td>102</td>\n",
       "      <td>V1_Breast_Cancer_Block_A_Section_1</td>\n",
       "      <td>3893</td>\n",
       "      <td>8.267192</td>\n",
       "      <td>10073.0</td>\n",
       "      <td>9.217713</td>\n",
       "      <td>24.034548</td>\n",
       "      <td>32.691353</td>\n",
       "      <td>41.695622</td>\n",
       "      <td>54.631192</td>\n",
       "      <td>408.0</td>\n",
       "      <td>6.013715</td>\n",
       "      <td>4.050432</td>\n",
       "      <td>10</td>\n",
       "    </tr>\n",
       "    <tr>\n",
       "      <th>AAACACCAATAACTGC-1-V1_Breast_Cancer_Block_A_Section_1</th>\n",
       "      <td>1</td>\n",
       "      <td>59</td>\n",
       "      <td>19</td>\n",
       "      <td>V1_Breast_Cancer_Block_A_Section_1</td>\n",
       "      <td>8331</td>\n",
       "      <td>9.027859</td>\n",
       "      <td>47039.0</td>\n",
       "      <td>10.758754</td>\n",
       "      <td>19.728311</td>\n",
       "      <td>28.444482</td>\n",
       "      <td>37.894088</td>\n",
       "      <td>50.587810</td>\n",
       "      <td>1911.0</td>\n",
       "      <td>7.555905</td>\n",
       "      <td>4.062586</td>\n",
       "      <td>6</td>\n",
       "    </tr>\n",
       "    <tr>\n",
       "      <th>AAACAGAGCGACTCCT-1-V1_Breast_Cancer_Block_A_Section_1</th>\n",
       "      <td>1</td>\n",
       "      <td>14</td>\n",
       "      <td>94</td>\n",
       "      <td>V1_Breast_Cancer_Block_A_Section_1</td>\n",
       "      <td>1915</td>\n",
       "      <td>7.557995</td>\n",
       "      <td>3232.0</td>\n",
       "      <td>8.081165</td>\n",
       "      <td>19.399752</td>\n",
       "      <td>27.753713</td>\n",
       "      <td>37.778465</td>\n",
       "      <td>56.219059</td>\n",
       "      <td>76.0</td>\n",
       "      <td>4.343805</td>\n",
       "      <td>2.351485</td>\n",
       "      <td>1</td>\n",
       "    </tr>\n",
       "    <tr>\n",
       "      <th>AAACAGGGTCTATATT-1-V1_Breast_Cancer_Block_A_Section_1</th>\n",
       "      <td>1</td>\n",
       "      <td>47</td>\n",
       "      <td>13</td>\n",
       "      <td>V1_Breast_Cancer_Block_A_Section_1</td>\n",
       "      <td>5268</td>\n",
       "      <td>8.569596</td>\n",
       "      <td>19775.0</td>\n",
       "      <td>9.892224</td>\n",
       "      <td>35.322377</td>\n",
       "      <td>44.262958</td>\n",
       "      <td>52.176991</td>\n",
       "      <td>61.623262</td>\n",
       "      <td>473.0</td>\n",
       "      <td>6.161207</td>\n",
       "      <td>2.391909</td>\n",
       "      <td>10</td>\n",
       "    </tr>\n",
       "    <tr>\n",
       "      <th>AAACAGTGTTCCTGGG-1-V1_Breast_Cancer_Block_A_Section_1</th>\n",
       "      <td>1</td>\n",
       "      <td>73</td>\n",
       "      <td>43</td>\n",
       "      <td>V1_Breast_Cancer_Block_A_Section_1</td>\n",
       "      <td>8123</td>\n",
       "      <td>9.002578</td>\n",
       "      <td>45255.0</td>\n",
       "      <td>10.720091</td>\n",
       "      <td>20.139211</td>\n",
       "      <td>29.150370</td>\n",
       "      <td>39.533753</td>\n",
       "      <td>52.666004</td>\n",
       "      <td>1615.0</td>\n",
       "      <td>7.387709</td>\n",
       "      <td>3.568666</td>\n",
       "      <td>6</td>\n",
       "    </tr>\n",
       "    <tr>\n",
       "      <th>...</th>\n",
       "      <td>...</td>\n",
       "      <td>...</td>\n",
       "      <td>...</td>\n",
       "      <td>...</td>\n",
       "      <td>...</td>\n",
       "      <td>...</td>\n",
       "      <td>...</td>\n",
       "      <td>...</td>\n",
       "      <td>...</td>\n",
       "      <td>...</td>\n",
       "      <td>...</td>\n",
       "      <td>...</td>\n",
       "      <td>...</td>\n",
       "      <td>...</td>\n",
       "      <td>...</td>\n",
       "      <td>...</td>\n",
       "    </tr>\n",
       "    <tr>\n",
       "      <th>TTGTTTCACATCCAGG-1-V1_Human_Lymph_Node</th>\n",
       "      <td>1</td>\n",
       "      <td>58</td>\n",
       "      <td>42</td>\n",
       "      <td>V1_Human_Lymph_Node</td>\n",
       "      <td>5771</td>\n",
       "      <td>8.660774</td>\n",
       "      <td>19649.0</td>\n",
       "      <td>9.885833</td>\n",
       "      <td>27.131152</td>\n",
       "      <td>35.950939</td>\n",
       "      <td>44.429742</td>\n",
       "      <td>55.000254</td>\n",
       "      <td>209.0</td>\n",
       "      <td>5.347107</td>\n",
       "      <td>1.063667</td>\n",
       "      <td>2</td>\n",
       "    </tr>\n",
       "    <tr>\n",
       "      <th>TTGTTTCATTAGTCTA-1-V1_Human_Lymph_Node</th>\n",
       "      <td>1</td>\n",
       "      <td>60</td>\n",
       "      <td>30</td>\n",
       "      <td>V1_Human_Lymph_Node</td>\n",
       "      <td>6354</td>\n",
       "      <td>8.756997</td>\n",
       "      <td>21557.0</td>\n",
       "      <td>9.978502</td>\n",
       "      <td>24.238067</td>\n",
       "      <td>32.263302</td>\n",
       "      <td>40.265343</td>\n",
       "      <td>51.152758</td>\n",
       "      <td>208.0</td>\n",
       "      <td>5.342334</td>\n",
       "      <td>0.964884</td>\n",
       "      <td>2</td>\n",
       "    </tr>\n",
       "    <tr>\n",
       "      <th>TTGTTTCCATACAACT-1-V1_Human_Lymph_Node</th>\n",
       "      <td>1</td>\n",
       "      <td>45</td>\n",
       "      <td>27</td>\n",
       "      <td>V1_Human_Lymph_Node</td>\n",
       "      <td>6517</td>\n",
       "      <td>8.782323</td>\n",
       "      <td>22175.0</td>\n",
       "      <td>10.006766</td>\n",
       "      <td>21.506201</td>\n",
       "      <td>30.593010</td>\n",
       "      <td>39.098083</td>\n",
       "      <td>50.119504</td>\n",
       "      <td>192.0</td>\n",
       "      <td>5.262690</td>\n",
       "      <td>0.865840</td>\n",
       "      <td>2</td>\n",
       "    </tr>\n",
       "    <tr>\n",
       "      <th>TTGTTTGTATTACACG-1-V1_Human_Lymph_Node</th>\n",
       "      <td>1</td>\n",
       "      <td>73</td>\n",
       "      <td>41</td>\n",
       "      <td>V1_Human_Lymph_Node</td>\n",
       "      <td>4476</td>\n",
       "      <td>8.406708</td>\n",
       "      <td>12268.0</td>\n",
       "      <td>9.414831</td>\n",
       "      <td>24.078904</td>\n",
       "      <td>34.268014</td>\n",
       "      <td>43.193675</td>\n",
       "      <td>54.964134</td>\n",
       "      <td>121.0</td>\n",
       "      <td>4.804021</td>\n",
       "      <td>0.986306</td>\n",
       "      <td>9</td>\n",
       "    </tr>\n",
       "    <tr>\n",
       "      <th>TTGTTTGTGTAAATTC-1-V1_Human_Lymph_Node</th>\n",
       "      <td>1</td>\n",
       "      <td>7</td>\n",
       "      <td>51</td>\n",
       "      <td>V1_Human_Lymph_Node</td>\n",
       "      <td>7183</td>\n",
       "      <td>8.879612</td>\n",
       "      <td>30022.0</td>\n",
       "      <td>10.309719</td>\n",
       "      <td>24.938379</td>\n",
       "      <td>35.124242</td>\n",
       "      <td>43.484778</td>\n",
       "      <td>53.767237</td>\n",
       "      <td>334.0</td>\n",
       "      <td>5.814131</td>\n",
       "      <td>1.112517</td>\n",
       "      <td>9</td>\n",
       "    </tr>\n",
       "  </tbody>\n",
       "</table>\n",
       "<p>16098 rows × 16 columns</p>\n",
       "</div>"
      ],
      "text/plain": [
       "                                                    in_tissue  array_row  \\\n",
       "AAACAAGTATCTCCCA-1-V1_Breast_Cancer_Block_A_Sec...          1         50   \n",
       "AAACACCAATAACTGC-1-V1_Breast_Cancer_Block_A_Sec...          1         59   \n",
       "AAACAGAGCGACTCCT-1-V1_Breast_Cancer_Block_A_Sec...          1         14   \n",
       "AAACAGGGTCTATATT-1-V1_Breast_Cancer_Block_A_Sec...          1         47   \n",
       "AAACAGTGTTCCTGGG-1-V1_Breast_Cancer_Block_A_Sec...          1         73   \n",
       "...                                                       ...        ...   \n",
       "TTGTTTCACATCCAGG-1-V1_Human_Lymph_Node                      1         58   \n",
       "TTGTTTCATTAGTCTA-1-V1_Human_Lymph_Node                      1         60   \n",
       "TTGTTTCCATACAACT-1-V1_Human_Lymph_Node                      1         45   \n",
       "TTGTTTGTATTACACG-1-V1_Human_Lymph_Node                      1         73   \n",
       "TTGTTTGTGTAAATTC-1-V1_Human_Lymph_Node                      1          7   \n",
       "\n",
       "                                                    array_col  \\\n",
       "AAACAAGTATCTCCCA-1-V1_Breast_Cancer_Block_A_Sec...        102   \n",
       "AAACACCAATAACTGC-1-V1_Breast_Cancer_Block_A_Sec...         19   \n",
       "AAACAGAGCGACTCCT-1-V1_Breast_Cancer_Block_A_Sec...         94   \n",
       "AAACAGGGTCTATATT-1-V1_Breast_Cancer_Block_A_Sec...         13   \n",
       "AAACAGTGTTCCTGGG-1-V1_Breast_Cancer_Block_A_Sec...         43   \n",
       "...                                                       ...   \n",
       "TTGTTTCACATCCAGG-1-V1_Human_Lymph_Node                     42   \n",
       "TTGTTTCATTAGTCTA-1-V1_Human_Lymph_Node                     30   \n",
       "TTGTTTCCATACAACT-1-V1_Human_Lymph_Node                     27   \n",
       "TTGTTTGTATTACACG-1-V1_Human_Lymph_Node                     41   \n",
       "TTGTTTGTGTAAATTC-1-V1_Human_Lymph_Node                     51   \n",
       "\n",
       "                                                                                sample  \\\n",
       "AAACAAGTATCTCCCA-1-V1_Breast_Cancer_Block_A_Sec...  V1_Breast_Cancer_Block_A_Section_1   \n",
       "AAACACCAATAACTGC-1-V1_Breast_Cancer_Block_A_Sec...  V1_Breast_Cancer_Block_A_Section_1   \n",
       "AAACAGAGCGACTCCT-1-V1_Breast_Cancer_Block_A_Sec...  V1_Breast_Cancer_Block_A_Section_1   \n",
       "AAACAGGGTCTATATT-1-V1_Breast_Cancer_Block_A_Sec...  V1_Breast_Cancer_Block_A_Section_1   \n",
       "AAACAGTGTTCCTGGG-1-V1_Breast_Cancer_Block_A_Sec...  V1_Breast_Cancer_Block_A_Section_1   \n",
       "...                                                                                ...   \n",
       "TTGTTTCACATCCAGG-1-V1_Human_Lymph_Node                             V1_Human_Lymph_Node   \n",
       "TTGTTTCATTAGTCTA-1-V1_Human_Lymph_Node                             V1_Human_Lymph_Node   \n",
       "TTGTTTCCATACAACT-1-V1_Human_Lymph_Node                             V1_Human_Lymph_Node   \n",
       "TTGTTTGTATTACACG-1-V1_Human_Lymph_Node                             V1_Human_Lymph_Node   \n",
       "TTGTTTGTGTAAATTC-1-V1_Human_Lymph_Node                             V1_Human_Lymph_Node   \n",
       "\n",
       "                                                    n_genes_by_counts  \\\n",
       "AAACAAGTATCTCCCA-1-V1_Breast_Cancer_Block_A_Sec...               3893   \n",
       "AAACACCAATAACTGC-1-V1_Breast_Cancer_Block_A_Sec...               8331   \n",
       "AAACAGAGCGACTCCT-1-V1_Breast_Cancer_Block_A_Sec...               1915   \n",
       "AAACAGGGTCTATATT-1-V1_Breast_Cancer_Block_A_Sec...               5268   \n",
       "AAACAGTGTTCCTGGG-1-V1_Breast_Cancer_Block_A_Sec...               8123   \n",
       "...                                                               ...   \n",
       "TTGTTTCACATCCAGG-1-V1_Human_Lymph_Node                           5771   \n",
       "TTGTTTCATTAGTCTA-1-V1_Human_Lymph_Node                           6354   \n",
       "TTGTTTCCATACAACT-1-V1_Human_Lymph_Node                           6517   \n",
       "TTGTTTGTATTACACG-1-V1_Human_Lymph_Node                           4476   \n",
       "TTGTTTGTGTAAATTC-1-V1_Human_Lymph_Node                           7183   \n",
       "\n",
       "                                                    log1p_n_genes_by_counts  \\\n",
       "AAACAAGTATCTCCCA-1-V1_Breast_Cancer_Block_A_Sec...                 8.267192   \n",
       "AAACACCAATAACTGC-1-V1_Breast_Cancer_Block_A_Sec...                 9.027859   \n",
       "AAACAGAGCGACTCCT-1-V1_Breast_Cancer_Block_A_Sec...                 7.557995   \n",
       "AAACAGGGTCTATATT-1-V1_Breast_Cancer_Block_A_Sec...                 8.569596   \n",
       "AAACAGTGTTCCTGGG-1-V1_Breast_Cancer_Block_A_Sec...                 9.002578   \n",
       "...                                                                     ...   \n",
       "TTGTTTCACATCCAGG-1-V1_Human_Lymph_Node                             8.660774   \n",
       "TTGTTTCATTAGTCTA-1-V1_Human_Lymph_Node                             8.756997   \n",
       "TTGTTTCCATACAACT-1-V1_Human_Lymph_Node                             8.782323   \n",
       "TTGTTTGTATTACACG-1-V1_Human_Lymph_Node                             8.406708   \n",
       "TTGTTTGTGTAAATTC-1-V1_Human_Lymph_Node                             8.879612   \n",
       "\n",
       "                                                    total_counts  \\\n",
       "AAACAAGTATCTCCCA-1-V1_Breast_Cancer_Block_A_Sec...       10073.0   \n",
       "AAACACCAATAACTGC-1-V1_Breast_Cancer_Block_A_Sec...       47039.0   \n",
       "AAACAGAGCGACTCCT-1-V1_Breast_Cancer_Block_A_Sec...        3232.0   \n",
       "AAACAGGGTCTATATT-1-V1_Breast_Cancer_Block_A_Sec...       19775.0   \n",
       "AAACAGTGTTCCTGGG-1-V1_Breast_Cancer_Block_A_Sec...       45255.0   \n",
       "...                                                          ...   \n",
       "TTGTTTCACATCCAGG-1-V1_Human_Lymph_Node                   19649.0   \n",
       "TTGTTTCATTAGTCTA-1-V1_Human_Lymph_Node                   21557.0   \n",
       "TTGTTTCCATACAACT-1-V1_Human_Lymph_Node                   22175.0   \n",
       "TTGTTTGTATTACACG-1-V1_Human_Lymph_Node                   12268.0   \n",
       "TTGTTTGTGTAAATTC-1-V1_Human_Lymph_Node                   30022.0   \n",
       "\n",
       "                                                    log1p_total_counts  \\\n",
       "AAACAAGTATCTCCCA-1-V1_Breast_Cancer_Block_A_Sec...            9.217713   \n",
       "AAACACCAATAACTGC-1-V1_Breast_Cancer_Block_A_Sec...           10.758754   \n",
       "AAACAGAGCGACTCCT-1-V1_Breast_Cancer_Block_A_Sec...            8.081165   \n",
       "AAACAGGGTCTATATT-1-V1_Breast_Cancer_Block_A_Sec...            9.892224   \n",
       "AAACAGTGTTCCTGGG-1-V1_Breast_Cancer_Block_A_Sec...           10.720091   \n",
       "...                                                                ...   \n",
       "TTGTTTCACATCCAGG-1-V1_Human_Lymph_Node                        9.885833   \n",
       "TTGTTTCATTAGTCTA-1-V1_Human_Lymph_Node                        9.978502   \n",
       "TTGTTTCCATACAACT-1-V1_Human_Lymph_Node                       10.006766   \n",
       "TTGTTTGTATTACACG-1-V1_Human_Lymph_Node                        9.414831   \n",
       "TTGTTTGTGTAAATTC-1-V1_Human_Lymph_Node                       10.309719   \n",
       "\n",
       "                                                    pct_counts_in_top_50_genes  \\\n",
       "AAACAAGTATCTCCCA-1-V1_Breast_Cancer_Block_A_Sec...                   24.034548   \n",
       "AAACACCAATAACTGC-1-V1_Breast_Cancer_Block_A_Sec...                   19.728311   \n",
       "AAACAGAGCGACTCCT-1-V1_Breast_Cancer_Block_A_Sec...                   19.399752   \n",
       "AAACAGGGTCTATATT-1-V1_Breast_Cancer_Block_A_Sec...                   35.322377   \n",
       "AAACAGTGTTCCTGGG-1-V1_Breast_Cancer_Block_A_Sec...                   20.139211   \n",
       "...                                                                        ...   \n",
       "TTGTTTCACATCCAGG-1-V1_Human_Lymph_Node                               27.131152   \n",
       "TTGTTTCATTAGTCTA-1-V1_Human_Lymph_Node                               24.238067   \n",
       "TTGTTTCCATACAACT-1-V1_Human_Lymph_Node                               21.506201   \n",
       "TTGTTTGTATTACACG-1-V1_Human_Lymph_Node                               24.078904   \n",
       "TTGTTTGTGTAAATTC-1-V1_Human_Lymph_Node                               24.938379   \n",
       "\n",
       "                                                    pct_counts_in_top_100_genes  \\\n",
       "AAACAAGTATCTCCCA-1-V1_Breast_Cancer_Block_A_Sec...                    32.691353   \n",
       "AAACACCAATAACTGC-1-V1_Breast_Cancer_Block_A_Sec...                    28.444482   \n",
       "AAACAGAGCGACTCCT-1-V1_Breast_Cancer_Block_A_Sec...                    27.753713   \n",
       "AAACAGGGTCTATATT-1-V1_Breast_Cancer_Block_A_Sec...                    44.262958   \n",
       "AAACAGTGTTCCTGGG-1-V1_Breast_Cancer_Block_A_Sec...                    29.150370   \n",
       "...                                                                         ...   \n",
       "TTGTTTCACATCCAGG-1-V1_Human_Lymph_Node                                35.950939   \n",
       "TTGTTTCATTAGTCTA-1-V1_Human_Lymph_Node                                32.263302   \n",
       "TTGTTTCCATACAACT-1-V1_Human_Lymph_Node                                30.593010   \n",
       "TTGTTTGTATTACACG-1-V1_Human_Lymph_Node                                34.268014   \n",
       "TTGTTTGTGTAAATTC-1-V1_Human_Lymph_Node                                35.124242   \n",
       "\n",
       "                                                    pct_counts_in_top_200_genes  \\\n",
       "AAACAAGTATCTCCCA-1-V1_Breast_Cancer_Block_A_Sec...                    41.695622   \n",
       "AAACACCAATAACTGC-1-V1_Breast_Cancer_Block_A_Sec...                    37.894088   \n",
       "AAACAGAGCGACTCCT-1-V1_Breast_Cancer_Block_A_Sec...                    37.778465   \n",
       "AAACAGGGTCTATATT-1-V1_Breast_Cancer_Block_A_Sec...                    52.176991   \n",
       "AAACAGTGTTCCTGGG-1-V1_Breast_Cancer_Block_A_Sec...                    39.533753   \n",
       "...                                                                         ...   \n",
       "TTGTTTCACATCCAGG-1-V1_Human_Lymph_Node                                44.429742   \n",
       "TTGTTTCATTAGTCTA-1-V1_Human_Lymph_Node                                40.265343   \n",
       "TTGTTTCCATACAACT-1-V1_Human_Lymph_Node                                39.098083   \n",
       "TTGTTTGTATTACACG-1-V1_Human_Lymph_Node                                43.193675   \n",
       "TTGTTTGTGTAAATTC-1-V1_Human_Lymph_Node                                43.484778   \n",
       "\n",
       "                                                    pct_counts_in_top_500_genes  \\\n",
       "AAACAAGTATCTCCCA-1-V1_Breast_Cancer_Block_A_Sec...                    54.631192   \n",
       "AAACACCAATAACTGC-1-V1_Breast_Cancer_Block_A_Sec...                    50.587810   \n",
       "AAACAGAGCGACTCCT-1-V1_Breast_Cancer_Block_A_Sec...                    56.219059   \n",
       "AAACAGGGTCTATATT-1-V1_Breast_Cancer_Block_A_Sec...                    61.623262   \n",
       "AAACAGTGTTCCTGGG-1-V1_Breast_Cancer_Block_A_Sec...                    52.666004   \n",
       "...                                                                         ...   \n",
       "TTGTTTCACATCCAGG-1-V1_Human_Lymph_Node                                55.000254   \n",
       "TTGTTTCATTAGTCTA-1-V1_Human_Lymph_Node                                51.152758   \n",
       "TTGTTTCCATACAACT-1-V1_Human_Lymph_Node                                50.119504   \n",
       "TTGTTTGTATTACACG-1-V1_Human_Lymph_Node                                54.964134   \n",
       "TTGTTTGTGTAAATTC-1-V1_Human_Lymph_Node                                53.767237   \n",
       "\n",
       "                                                    total_counts_mt  \\\n",
       "AAACAAGTATCTCCCA-1-V1_Breast_Cancer_Block_A_Sec...            408.0   \n",
       "AAACACCAATAACTGC-1-V1_Breast_Cancer_Block_A_Sec...           1911.0   \n",
       "AAACAGAGCGACTCCT-1-V1_Breast_Cancer_Block_A_Sec...             76.0   \n",
       "AAACAGGGTCTATATT-1-V1_Breast_Cancer_Block_A_Sec...            473.0   \n",
       "AAACAGTGTTCCTGGG-1-V1_Breast_Cancer_Block_A_Sec...           1615.0   \n",
       "...                                                             ...   \n",
       "TTGTTTCACATCCAGG-1-V1_Human_Lymph_Node                        209.0   \n",
       "TTGTTTCATTAGTCTA-1-V1_Human_Lymph_Node                        208.0   \n",
       "TTGTTTCCATACAACT-1-V1_Human_Lymph_Node                        192.0   \n",
       "TTGTTTGTATTACACG-1-V1_Human_Lymph_Node                        121.0   \n",
       "TTGTTTGTGTAAATTC-1-V1_Human_Lymph_Node                        334.0   \n",
       "\n",
       "                                                    log1p_total_counts_mt  \\\n",
       "AAACAAGTATCTCCCA-1-V1_Breast_Cancer_Block_A_Sec...               6.013715   \n",
       "AAACACCAATAACTGC-1-V1_Breast_Cancer_Block_A_Sec...               7.555905   \n",
       "AAACAGAGCGACTCCT-1-V1_Breast_Cancer_Block_A_Sec...               4.343805   \n",
       "AAACAGGGTCTATATT-1-V1_Breast_Cancer_Block_A_Sec...               6.161207   \n",
       "AAACAGTGTTCCTGGG-1-V1_Breast_Cancer_Block_A_Sec...               7.387709   \n",
       "...                                                                   ...   \n",
       "TTGTTTCACATCCAGG-1-V1_Human_Lymph_Node                           5.347107   \n",
       "TTGTTTCATTAGTCTA-1-V1_Human_Lymph_Node                           5.342334   \n",
       "TTGTTTCCATACAACT-1-V1_Human_Lymph_Node                           5.262690   \n",
       "TTGTTTGTATTACACG-1-V1_Human_Lymph_Node                           4.804021   \n",
       "TTGTTTGTGTAAATTC-1-V1_Human_Lymph_Node                           5.814131   \n",
       "\n",
       "                                                    pct_counts_mt clusters  \n",
       "AAACAAGTATCTCCCA-1-V1_Breast_Cancer_Block_A_Sec...       4.050432       10  \n",
       "AAACACCAATAACTGC-1-V1_Breast_Cancer_Block_A_Sec...       4.062586        6  \n",
       "AAACAGAGCGACTCCT-1-V1_Breast_Cancer_Block_A_Sec...       2.351485        1  \n",
       "AAACAGGGTCTATATT-1-V1_Breast_Cancer_Block_A_Sec...       2.391909       10  \n",
       "AAACAGTGTTCCTGGG-1-V1_Breast_Cancer_Block_A_Sec...       3.568666        6  \n",
       "...                                                           ...      ...  \n",
       "TTGTTTCACATCCAGG-1-V1_Human_Lymph_Node                   1.063667        2  \n",
       "TTGTTTCATTAGTCTA-1-V1_Human_Lymph_Node                   0.964884        2  \n",
       "TTGTTTCCATACAACT-1-V1_Human_Lymph_Node                   0.865840        2  \n",
       "TTGTTTGTATTACACG-1-V1_Human_Lymph_Node                   0.986306        9  \n",
       "TTGTTTGTGTAAATTC-1-V1_Human_Lymph_Node                   1.112517        9  \n",
       "\n",
       "[16098 rows x 16 columns]"
      ]
     },
     "execution_count": 29,
     "metadata": {},
     "output_type": "execute_result"
    }
   ],
   "source": [
    "adata_merge.obs"
   ]
  },
  {
   "cell_type": "code",
   "execution_count": null,
   "metadata": {},
   "outputs": [],
   "source": []
  }
 ],
 "metadata": {
  "kernelspec": {
   "display_name": "Python 3",
   "language": "python",
   "name": "python3"
  },
  "language_info": {
   "codemirror_mode": {
    "name": "ipython",
    "version": 3
   },
   "file_extension": ".py",
   "mimetype": "text/x-python",
   "name": "python",
   "nbconvert_exporter": "python",
   "pygments_lexer": "ipython3",
   "version": "3.6.5"
  }
 },
 "nbformat": 4,
 "nbformat_minor": 4
}
